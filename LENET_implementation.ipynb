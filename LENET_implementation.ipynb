{
  "nbformat": 4,
  "nbformat_minor": 0,
  "metadata": {
    "colab": {
      "provenance": [],
      "authorship_tag": "ABX9TyMhFMed4GBhz52l/HfwjhCX",
      "include_colab_link": true
    },
    "kernelspec": {
      "name": "python3",
      "display_name": "Python 3"
    },
    "language_info": {
      "name": "python"
    }
  },
  "cells": [
    {
      "cell_type": "markdown",
      "metadata": {
        "id": "view-in-github",
        "colab_type": "text"
      },
      "source": [
        "<a href=\"https://colab.research.google.com/github/Krishanu2206/Some_Implementations-/blob/main/LENET_implementation.ipynb\" target=\"_parent\"><img src=\"https://colab.research.google.com/assets/colab-badge.svg\" alt=\"Open In Colab\"/></a>"
      ]
    },
    {
      "cell_type": "markdown",
      "source": [
        "#THE LENET ARCHITECTURE\n",
        "The LeNet architecture is a simple and classic convolutional neural network (CNN) architecture, originally designed for handwritten digit recognition (MNIST dataset) by Yann LeCun. The architecture consists of two sets of convolutional and pooling layers, followed by fully connected layers.\n",
        "\n",
        "Convolutional Layer 1: Takes a 1-channel input (e.g., grayscale image) and outputs 6 feature maps with a kernel size of 5x5.\n",
        "\n",
        "Max Pooling Layer 1: Applies 2x2 max pooling.\n",
        "\n",
        "Convolutional Layer 2: Takes 6 input channels and outputs 16 feature maps with a kernel size of 5x5.\n",
        "\n",
        "Max Pooling Layer 2: Applies 2x2 max pooling.\n",
        "\n",
        "Flattening: Converts the 2D feature maps into a 1D feature vector.\n",
        "\n",
        "Fully Connected Layer 1: Outputs 120 features.\n",
        "\n",
        "Fully Connected Layer 2: Outputs 84 features.\n",
        "\n",
        "Output Layer: Outputs 10 features, corresponding to the number of classes.\n",
        "\n",
        "This architecture works well for small image classification tasks.\n",
        "\n",
        "`1x32x32 Input -> (5x5), s=1, p=0 -> (5x5), s=1, p=0 -> avg pool s=2, p=0 -> conv (5x5) to 120 channels x linear 120 -> 84 x Linear 10`"
      ],
      "metadata": {
        "id": "ffuCq-ISJDaC"
      }
    },
    {
      "cell_type": "code",
      "execution_count": 2,
      "metadata": {
        "id": "7lj24gLKI9FE"
      },
      "outputs": [],
      "source": [
        "import torch\n",
        "import torch.nn as nn"
      ]
    },
    {
      "cell_type": "code",
      "source": [
        "class LeNet(nn.Module):\n",
        "  def __init__(self):\n",
        "    super(LeNet, self).__init__()\n",
        "    self.relu = nn.ReLU()\n",
        "    self.flatten = nn.Flatten()\n",
        "    self.pool = nn.AvgPool2d(kernel_size=(2,2), stride=(2,2))\n",
        "    self.conv1 = nn.Conv2d(in_channels=1, out_channels=6, kernel_size=(5,5), stride=(1,1), padding=(0,0))\n",
        "    self.conv2 = nn.Conv2d(in_channels=6, out_channels=16, kernel_size=(5,5), stride=(1,1), padding=(0,0))\n",
        "    self.conv3 = nn.Conv2d(in_channels=16, out_channels=120, kernel_size=(5,5), stride=(1,1), padding=(0,0))\n",
        "    self.linear1 = nn.Linear(in_features=120, out_features=84)\n",
        "    self.linear2 = nn.Linear(in_features=84, out_features=10)\n",
        "\n",
        "  def forward(self, x):\n",
        "    x = self.relu(self.conv1(x))\n",
        "    x = self.pool(x)\n",
        "    x = self.relu(self.conv2(x))\n",
        "    x = self.pool(x)\n",
        "    x = self.conv3(x)\n",
        "    x = self.flatten(x)\n",
        "    x = self.relu(self.linear1(x))\n",
        "    x = self.linear2(x)\n",
        "    return x"
      ],
      "metadata": {
        "id": "riTe3aKAfZx1"
      },
      "execution_count": 14,
      "outputs": []
    },
    {
      "cell_type": "code",
      "source": [
        "x = torch.randn(64, 1, 32, 32)"
      ],
      "metadata": {
        "id": "E2WtJeQMzZav"
      },
      "execution_count": 15,
      "outputs": []
    },
    {
      "cell_type": "code",
      "source": [
        "##Creating an instance of the model\n",
        "model = LeNet()"
      ],
      "metadata": {
        "id": "wwu5LTGm0DDm"
      },
      "execution_count": 16,
      "outputs": []
    },
    {
      "cell_type": "code",
      "source": [
        "print(model(x).shape)"
      ],
      "metadata": {
        "colab": {
          "base_uri": "https://localhost:8080/"
        },
        "id": "2dyCqJ1C0KGH",
        "outputId": "74639296-39cc-4a47-b2db-9dc670292bd8"
      },
      "execution_count": 17,
      "outputs": [
        {
          "output_type": "stream",
          "name": "stdout",
          "text": [
            "torch.Size([64, 10])\n"
          ]
        }
      ]
    },
    {
      "cell_type": "code",
      "source": [],
      "metadata": {
        "id": "BaicL0560Pvz"
      },
      "execution_count": null,
      "outputs": []
    }
  ]
}